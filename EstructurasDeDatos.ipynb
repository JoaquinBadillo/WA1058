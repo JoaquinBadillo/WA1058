{
 "cells": [
  {
   "cell_type": "markdown",
   "id": "0579731f",
   "metadata": {},
   "source": [
    "# Estructuras de Datos\n",
    "\n",
    "## Autor:\n",
    "\n",
    "Joaquín Badillo.\n",
    "\n",
    "---\n",
    "\n",
    "Si estás aprendiendo esto por primera vez recomiendo que vayas celda por celda. De hecho ejecutar todas las celdas va a fracasar porque hay algunas que levantan errores a propósito.\n",
    "\n",
    "---"
   ]
  },
  {
   "cell_type": "markdown",
   "id": "58dab217",
   "metadata": {},
   "source": [
    "## Lista Ligada"
   ]
  },
  {
   "cell_type": "markdown",
   "id": "cc61a673",
   "metadata": {},
   "source": [
    "### Constructor\n",
    "\n",
    "Una lista se puede crear con los elementos entre corchetes"
   ]
  },
  {
   "cell_type": "code",
   "execution_count": null,
   "id": "bd27077d",
   "metadata": {},
   "outputs": [],
   "source": [
    "ejemplo1 = [1, 2, 3, 4]\n",
    "print(ejemplo1)"
   ]
  },
  {
   "cell_type": "markdown",
   "id": "6724503b",
   "metadata": {},
   "source": [
    "Una lista puede contener listas (esto no es trivial)"
   ]
  },
  {
   "cell_type": "code",
   "execution_count": null,
   "id": "668e3f9e",
   "metadata": {},
   "outputs": [],
   "source": [
    "ejemplo2 = [1, 2, 3, ejemplo1]\n",
    "print(ejemplo2)"
   ]
  },
  {
   "cell_type": "markdown",
   "id": "b19e8acd",
   "metadata": {},
   "source": [
    "También se puede crear una lista utilizando un iterable (como `range`) dentro de la función `list()`"
   ]
  },
  {
   "cell_type": "code",
   "execution_count": null,
   "id": "e6e1618b",
   "metadata": {},
   "outputs": [],
   "source": [
    "# Range representa números en el rango desde 0 hasta el número dado (sin incluirlo)\n",
    "\n",
    "ejemplo3 = list(range(5))\n",
    "print(ejemplo3)"
   ]
  },
  {
   "cell_type": "markdown",
   "id": "0284d862",
   "metadata": {},
   "source": [
    "### Lista de comprensión\n",
    "\n",
    "Una lista de comprensión se crea muy rápidamente, la notación parece extraña la primera vez, pero se parece mucho a la notación matemática"
   ]
  },
  {
   "cell_type": "code",
   "execution_count": null,
   "id": "ed545cb1",
   "metadata": {},
   "outputs": [],
   "source": [
    "# Crea una lista con cada elemento en el rango, este tipo de listas son especiales. \n",
    "# Luego veremos el `for`\n",
    "\n",
    "ejemplo4 = [i for i in range(3, 8)] # Un rango puede tener un inicio distinto de 0\n",
    "print(ejemplo4)"
   ]
  },
  {
   "cell_type": "markdown",
   "id": "168fe785",
   "metadata": {},
   "source": [
    "### Acceso\n",
    "\n",
    "Se utilizan los corchetes con el índice para obtener el valor almacenado en esa posición. La primera posición tiene el índice 0."
   ]
  },
  {
   "cell_type": "code",
   "execution_count": null,
   "id": "af2e6aa1",
   "metadata": {},
   "outputs": [],
   "source": [
    "print(ejemplo1, end = \"\\n\\n\")\n",
    "\n",
    "print(\"Primer elemento (posición 0)\")\n",
    "print(ejemplo1[0])"
   ]
  },
  {
   "cell_type": "markdown",
   "id": "c422b9c9",
   "metadata": {},
   "source": [
    "También se puede acceder al último elemento"
   ]
  },
  {
   "cell_type": "code",
   "execution_count": null,
   "id": "086fad47",
   "metadata": {},
   "outputs": [],
   "source": [
    "print(ejemplo1, end = \"\\n\\n\")\n",
    "\n",
    "print(\"Último elemento (posición -1)\")\n",
    "print(ejemplo1[-1])"
   ]
  },
  {
   "cell_type": "markdown",
   "id": "0fa8220c",
   "metadata": {},
   "source": [
    "Y se pueden obtener sublistas"
   ]
  },
  {
   "cell_type": "code",
   "execution_count": null,
   "id": "4d912285",
   "metadata": {},
   "outputs": [],
   "source": [
    "print(ejemplo1, end = \"\\n\\n\")\n",
    "\n",
    "print(\"Sublista entre las posiciones 2 (inclusivo) y 4 (exclusivo)\")\n",
    "print(ejemplo1[2:4])"
   ]
  },
  {
   "cell_type": "markdown",
   "id": "ec58d89b",
   "metadata": {},
   "source": [
    "### Actualización\n",
    "\n",
    "Se pueden reasignar los valores en un indice usando el operador de asignación `=`"
   ]
  },
  {
   "cell_type": "code",
   "execution_count": null,
   "id": "880cf739",
   "metadata": {},
   "outputs": [],
   "source": [
    "ejemplo1[2] = 42\n",
    "print(ejemplo1)"
   ]
  },
  {
   "cell_type": "markdown",
   "id": "08e4a8af",
   "metadata": {},
   "source": [
    "### Inserción"
   ]
  },
  {
   "cell_type": "code",
   "execution_count": null,
   "id": "ad1d39a1",
   "metadata": {},
   "outputs": [],
   "source": [
    "print(ejemplo2)"
   ]
  },
  {
   "cell_type": "markdown",
   "id": "87a8aae5",
   "metadata": {},
   "source": [
    "El método `append` agrega un elemento al final de la lista"
   ]
  },
  {
   "cell_type": "code",
   "execution_count": null,
   "id": "3627eeea",
   "metadata": {},
   "outputs": [],
   "source": [
    "ejemplo2.append('d')\n",
    "print(ejemplo2)"
   ]
  },
  {
   "cell_type": "code",
   "execution_count": null,
   "id": "f648ee1b",
   "metadata": {},
   "outputs": [],
   "source": [
    "ejemplo2.append('a')\n",
    "print(ejemplo2)"
   ]
  },
  {
   "cell_type": "markdown",
   "id": "69981569",
   "metadata": {},
   "source": [
    "Si bien se puede insertar un elemento en la posición que uno desee, probablemente hay una mejor forma de hacer el programa que se tiene en mente, pues insertar en otra posición es costoso."
   ]
  },
  {
   "cell_type": "code",
   "execution_count": null,
   "id": "c7f3db92",
   "metadata": {},
   "outputs": [],
   "source": [
    "ejemplo2.insert(3, 'posición 3')\n",
    "print(ejemplo2)"
   ]
  },
  {
   "cell_type": "markdown",
   "id": "940e76bb",
   "metadata": {},
   "source": [
    "### Eliminación\n",
    "\n",
    "`pop()` eliminará el último elemento. Nos regresa dicho valor lo cual es útil cuando queremos procesar los elementos de una lista e irla vaciando"
   ]
  },
  {
   "cell_type": "code",
   "execution_count": null,
   "id": "37b2c815",
   "metadata": {},
   "outputs": [],
   "source": [
    "print(ejemplo2.pop())"
   ]
  },
  {
   "cell_type": "code",
   "execution_count": null,
   "id": "bd460c19",
   "metadata": {},
   "outputs": [],
   "source": [
    "print(ejemplo2)"
   ]
  },
  {
   "cell_type": "markdown",
   "id": "ae753b22",
   "metadata": {},
   "source": [
    "`pop(i)` también puede recibir un índice para devolver y eliminar el elemento en esa posición. Esto es más lento que eliminar lo que está al final"
   ]
  },
  {
   "cell_type": "code",
   "execution_count": null,
   "id": "6481a131",
   "metadata": {},
   "outputs": [],
   "source": [
    "print(ejemplo2.pop(0))"
   ]
  },
  {
   "cell_type": "code",
   "execution_count": null,
   "id": "b91190e1",
   "metadata": {},
   "outputs": [],
   "source": [
    "print(ejemplo2)"
   ]
  },
  {
   "cell_type": "markdown",
   "id": "ef2a8b5f",
   "metadata": {},
   "source": [
    "También se puede eliminar por valor usando `remove`"
   ]
  },
  {
   "cell_type": "code",
   "execution_count": null,
   "id": "5bcd0bb8",
   "metadata": {},
   "outputs": [],
   "source": [
    "ejemplo2.remove(3)\n",
    "print(ejemplo2)"
   ]
  },
  {
   "cell_type": "markdown",
   "id": "e12ab98e",
   "metadata": {},
   "source": [
    "Solo que si el valor no se encuentra en la lista, se levanta un error."
   ]
  },
  {
   "cell_type": "code",
   "execution_count": null,
   "id": "0910e363",
   "metadata": {},
   "outputs": [],
   "source": [
    "lst = [1,2]\n",
    "lst.remove(3)"
   ]
  },
  {
   "cell_type": "markdown",
   "id": "26f9c572",
   "metadata": {},
   "source": [
    "Similarmente pop levanta un error en una lista vacía"
   ]
  },
  {
   "cell_type": "code",
   "execution_count": null,
   "id": "4eeee22f",
   "metadata": {},
   "outputs": [],
   "source": [
    "lst = []\n",
    "lst.pop()"
   ]
  },
  {
   "cell_type": "markdown",
   "id": "2aa856c8",
   "metadata": {},
   "source": [
    "---"
   ]
  },
  {
   "cell_type": "markdown",
   "id": "9b9177cf",
   "metadata": {},
   "source": [
    "## Diccionario"
   ]
  },
  {
   "cell_type": "markdown",
   "id": "0781cdb7",
   "metadata": {},
   "source": [
    "### Constructor"
   ]
  },
  {
   "cell_type": "markdown",
   "id": "acb50fad",
   "metadata": {},
   "source": [
    "Se puede crear un diccionario estableciendo pares llave : valor separados por comas dentro de `{}`"
   ]
  },
  {
   "cell_type": "code",
   "execution_count": null,
   "id": "076e4b42",
   "metadata": {},
   "outputs": [],
   "source": [
    "persona = {\"nombre\": \"Tú\",\n",
    "           \"gustos\": [\"Programar\", \"Leer\", \"Aprender\"],\n",
    "          }"
   ]
  },
  {
   "cell_type": "code",
   "execution_count": null,
   "id": "14a285fc",
   "metadata": {},
   "outputs": [],
   "source": [
    "print(persona)"
   ]
  },
  {
   "cell_type": "markdown",
   "id": "5245698e",
   "metadata": {},
   "source": [
    "También se puede usar el constructor `dict()`, al que se le puede pasar una lista con listas o tuplas que son los pares llave, valor."
   ]
  },
  {
   "cell_type": "code",
   "execution_count": null,
   "id": "90b9d01f",
   "metadata": {},
   "outputs": [],
   "source": [
    "diccionario = dict([(1,'a'), (2, 'b'), (3, 'c')])"
   ]
  },
  {
   "cell_type": "code",
   "execution_count": null,
   "id": "aa41428f",
   "metadata": {},
   "outputs": [],
   "source": [
    "print(diccionario)"
   ]
  },
  {
   "cell_type": "markdown",
   "id": "b4ac4b2a",
   "metadata": {},
   "source": [
    "Se pueden crear diccionarios vacíos (estos se suelen llenar en la ejecución de un programa, por ejemplo para contar la frecuencia con la que algo se repite)"
   ]
  },
  {
   "cell_type": "code",
   "execution_count": null,
   "id": "99ddd7aa",
   "metadata": {},
   "outputs": [],
   "source": [
    "vacio = dict()\n",
    "print(vacio)"
   ]
  },
  {
   "cell_type": "markdown",
   "id": "02009e9f",
   "metadata": {},
   "source": [
    "Se puede usar también la notación de una lista de comprensión, pero para diccionarios"
   ]
  },
  {
   "cell_type": "code",
   "execution_count": null,
   "id": "2d196158",
   "metadata": {},
   "outputs": [],
   "source": [
    "diccionario = {i : i + 23 for i in range(3, 6)}\n",
    "print(diccionario)"
   ]
  },
  {
   "cell_type": "markdown",
   "id": "6baaa482",
   "metadata": {},
   "source": [
    "¿Qué genera el siguiente diccionario? (Puedes usar `print` para verlo)"
   ]
  },
  {
   "cell_type": "code",
   "execution_count": null,
   "id": "6c6d74aa",
   "metadata": {},
   "outputs": [],
   "source": [
    "mapa = {chr(i + ord('A')): i + 1 for i in range(26)}"
   ]
  },
  {
   "cell_type": "markdown",
   "id": "69048bf5",
   "metadata": {},
   "source": [
    "Ahora que ya viste que generó el diccionario, recuerda la clase inicial y la idea de que una computadora almacena la información básciamente contando (los caracteres tienen un orden)\n",
    "\n",
    "¿Qué crees que hacen `chr(n)` y `ord(s)`?\n",
    "\n",
    "Cuando veamos el ciclo for como tal, veremos otra manera de hacer este diccionario y probablemente sea más fácil entender qué pasó aquí"
   ]
  },
  {
   "cell_type": "markdown",
   "id": "631eef0a",
   "metadata": {},
   "source": [
    "### Acceso\n",
    "\n",
    "Se puede obtener el valor asociado a una llave `k` usando corchetes: `diccionario[k]`\n",
    "\n",
    "También se puede utilizar el método `get(k)` con dicha llave."
   ]
  },
  {
   "cell_type": "code",
   "execution_count": null,
   "id": "78b63892",
   "metadata": {},
   "outputs": [],
   "source": [
    "persona[\"nombre\"]"
   ]
  },
  {
   "cell_type": "code",
   "execution_count": null,
   "id": "968f3c19",
   "metadata": {},
   "outputs": [],
   "source": [
    "persona[\"gustos\"]"
   ]
  },
  {
   "cell_type": "code",
   "execution_count": null,
   "id": "8ab6a1d4",
   "metadata": {},
   "outputs": [],
   "source": [
    "persona.get(\"nombre\")"
   ]
  },
  {
   "cell_type": "markdown",
   "id": "8c37065e",
   "metadata": {},
   "source": [
    "#### Diferencia entre `get(llave)` y `diciconario[llave]`"
   ]
  },
  {
   "cell_type": "markdown",
   "id": "9ab7c350",
   "metadata": {},
   "source": [
    "Si la llave no existe los corchetes van a levantar un error, esto detiene el programa y si se hace un script ahí muere el script. Aqui en un Cuaderno Interactivo podemos seguir ejecutando celdas después aunque va a pausar la ejecución si es que deseabamos ejecutar el cuaderno completo :/"
   ]
  },
  {
   "cell_type": "code",
   "execution_count": null,
   "id": "4ef89cd0",
   "metadata": {},
   "outputs": [],
   "source": [
    "print(persona[\"no existe\"])"
   ]
  },
  {
   "cell_type": "markdown",
   "id": "0d01900c",
   "metadata": {},
   "source": [
    "`get` devuelve `None`, si la llave no existe. El programa continua sin problema y podemos utilizar este comportamiento para manejar la situación en la que no exista la llave deseada. Manejar esas excepciones también se puede lograr usando un bloque `try - except` con los corchetes, eso quizá es relevante si el diccionario almacena `None` en alguna llave, aunque usar `get` suele ser más limpio."
   ]
  },
  {
   "cell_type": "code",
   "execution_count": null,
   "id": "cbefcf9f",
   "metadata": {},
   "outputs": [],
   "source": [
    "print(persona.get(\"no existe\"))"
   ]
  },
  {
   "cell_type": "markdown",
   "id": "5d844ede",
   "metadata": {},
   "source": [
    "`None` se puede usar como un valor de falsedad. Otros valores de falsedad además de `None` y `False` son por ejemplo:\n",
    "* el número 0\n",
    "* texto vacío \"\" \n",
    "* lista vacía \\[\\]\n",
    "\n",
    "\n",
    "`None` se suele utilizar para indicar que un valor \"falta\" y será relevante al implementar algunas estructuras de datos por nuestra cuenta."
   ]
  },
  {
   "cell_type": "code",
   "execution_count": null,
   "id": "1f341c8b",
   "metadata": {},
   "outputs": [],
   "source": [
    "if persona.get(\"no existe\"):\n",
    "    print(\"existe\")\n",
    "else:\n",
    "    print(\"no existe\")"
   ]
  },
  {
   "cell_type": "markdown",
   "id": "4399f333",
   "metadata": {},
   "source": [
    "A `get` se le puede dar un segundo argumento que representa un valor por defecto. Si no existe la llave en el diccionario se utiliza dicho valor"
   ]
  },
  {
   "cell_type": "code",
   "execution_count": null,
   "id": "fc29caaa",
   "metadata": {},
   "outputs": [],
   "source": [
    "print(persona.get(\"propiedad\", \"Valor por defecto\"))"
   ]
  },
  {
   "cell_type": "markdown",
   "id": "c10f4e08",
   "metadata": {},
   "source": [
    "No importa en donde se intente acceder con corchetes, si la llave no existe el programa muere"
   ]
  },
  {
   "cell_type": "code",
   "execution_count": null,
   "id": "37597df8",
   "metadata": {},
   "outputs": [],
   "source": [
    "if persona[\"no existe\"]:\n",
    "    print(\"existe\")\n",
    "else:\n",
    "    print(\"no existe\")"
   ]
  },
  {
   "cell_type": "markdown",
   "id": "ef656706",
   "metadata": {},
   "source": [
    "Podemos hacer lo mismo que la función `get` checando primero si existe la llave usando el operador `in`. Checar si una llave existe en un diccionario es una operación rápida."
   ]
  },
  {
   "cell_type": "code",
   "execution_count": null,
   "id": "36913851",
   "metadata": {},
   "outputs": [],
   "source": [
    "if \"no existe\" in persona:\n",
    "    print(persona[\"no existe\"])\n",
    "else:\n",
    "    print(\"valor por defecto\")"
   ]
  },
  {
   "cell_type": "markdown",
   "id": "521caf27",
   "metadata": {},
   "source": [
    "Estoy usando `print` para los ejemplos, pero podemos guardar el valor en una variable o realizar algún procedimiento más general "
   ]
  },
  {
   "cell_type": "markdown",
   "id": "e3d3ab3d",
   "metadata": {},
   "source": [
    "### Pertenencia"
   ]
  },
  {
   "cell_type": "markdown",
   "id": "1cb9af8b",
   "metadata": {},
   "source": [
    "Como fue mencionado previamente se puede checar si existe una llave en un diccionario:"
   ]
  },
  {
   "cell_type": "code",
   "execution_count": null,
   "id": "bb26c1a7",
   "metadata": {},
   "outputs": [],
   "source": [
    "print(\"gustos\" in persona)\n",
    "print(\"llave inexistente\" in persona)"
   ]
  },
  {
   "cell_type": "markdown",
   "id": "200bf48a",
   "metadata": {},
   "source": [
    "### Actualización"
   ]
  },
  {
   "cell_type": "markdown",
   "id": "ad5a4981",
   "metadata": {},
   "source": [
    "Se puede actualizar un diccionario usando el método `update` y otro diccionario."
   ]
  },
  {
   "cell_type": "code",
   "execution_count": null,
   "id": "3e67227a",
   "metadata": {},
   "outputs": [],
   "source": [
    "print(persona)"
   ]
  },
  {
   "cell_type": "code",
   "execution_count": null,
   "id": "95696ce2",
   "metadata": {},
   "outputs": [],
   "source": [
    "persona.update({'gustos': ['Leer', 'Aprender']})\n",
    "print(persona)"
   ]
  },
  {
   "cell_type": "markdown",
   "id": "b15e19f2",
   "metadata": {},
   "source": [
    "También se puede actualizar reasignando el valor de la llave"
   ]
  },
  {
   "cell_type": "code",
   "execution_count": null,
   "id": "77dbd8ee",
   "metadata": {},
   "outputs": [],
   "source": [
    "persona[\"gustos\"] = [\"Programar\", \"Programar más\", \"Dormir\"]\n",
    "print(persona)"
   ]
  },
  {
   "cell_type": "markdown",
   "id": "8caa369b",
   "metadata": {},
   "source": [
    "Actualizar también nos sirve para crear nuevas llaves"
   ]
  },
  {
   "cell_type": "code",
   "execution_count": null,
   "id": "6e1fc757",
   "metadata": {},
   "outputs": [],
   "source": [
    "persona.update({'apellido': 'Tu apellido'})\n",
    "print(persona)"
   ]
  },
  {
   "cell_type": "code",
   "execution_count": null,
   "id": "494e8154",
   "metadata": {},
   "outputs": [],
   "source": [
    "persona[\"edad\"] = \"Tu edad\"\n",
    "print(persona)"
   ]
  },
  {
   "cell_type": "markdown",
   "id": "27f322bf",
   "metadata": {},
   "source": [
    "### Eliminación"
   ]
  },
  {
   "cell_type": "markdown",
   "id": "429bc05a",
   "metadata": {},
   "source": [
    "`pop` elimina una llave y devuleve su valor"
   ]
  },
  {
   "cell_type": "code",
   "execution_count": null,
   "id": "22a72aae",
   "metadata": {},
   "outputs": [],
   "source": [
    "print(persona.pop(\"apellido\"))"
   ]
  },
  {
   "cell_type": "code",
   "execution_count": null,
   "id": "d91bdf27",
   "metadata": {},
   "outputs": [],
   "source": [
    "print(persona)"
   ]
  },
  {
   "cell_type": "markdown",
   "id": "1f80e6d1",
   "metadata": {},
   "source": [
    "---"
   ]
  },
  {
   "cell_type": "markdown",
   "id": "15cbe206",
   "metadata": {},
   "source": [
    "## Conjuntos"
   ]
  },
  {
   "cell_type": "markdown",
   "id": "03ee2b9e",
   "metadata": {},
   "source": [
    "### Constructor"
   ]
  },
  {
   "cell_type": "code",
   "execution_count": null,
   "id": "a1efdba1",
   "metadata": {},
   "outputs": [],
   "source": [
    "conjunto = {1, 2, 3, 4}\n",
    "print(conjunto)"
   ]
  },
  {
   "cell_type": "code",
   "execution_count": null,
   "id": "b30f5e9f",
   "metadata": {},
   "outputs": [],
   "source": [
    "conjunto2 = set([4, 3, 2, 4, 3, 2, 1, 4])\n",
    "print(conjunto2)"
   ]
  },
  {
   "cell_type": "code",
   "execution_count": null,
   "id": "4d36f47c",
   "metadata": {},
   "outputs": [],
   "source": [
    "vacio = set()\n",
    "print(conjunto)"
   ]
  },
  {
   "cell_type": "code",
   "execution_count": null,
   "id": "e35278a2",
   "metadata": {},
   "outputs": [],
   "source": [
    "conjunto3 = {i for i in range(10)}\n",
    "print(conjunto3)"
   ]
  },
  {
   "cell_type": "markdown",
   "id": "6dbc86fb",
   "metadata": {},
   "source": [
    "### Pertenencia\n",
    "\n",
    "Un conjunto, debido a su implementación en Python no está ordenado, pero podemos checar si hay algún elemento en el diccionario de forma inmediata"
   ]
  },
  {
   "cell_type": "code",
   "execution_count": null,
   "id": "e46fe015",
   "metadata": {},
   "outputs": [],
   "source": [
    "print(1 in conjunto)"
   ]
  },
  {
   "cell_type": "code",
   "execution_count": null,
   "id": "6c6a470a",
   "metadata": {},
   "outputs": [],
   "source": [
    "print(5 in conjunto)"
   ]
  },
  {
   "cell_type": "markdown",
   "id": "9c4204b8",
   "metadata": {},
   "source": [
    "Hacer esto con una lista implica buscar el valor en toda la lista, hay maneras de hacer que ese proceso sea más eficiente si es que la lista está ordenada"
   ]
  },
  {
   "cell_type": "markdown",
   "id": "20e5116b",
   "metadata": {},
   "source": [
    "### Actualización\n",
    "\n",
    "El método `add` permite agregar un valor al conjunto"
   ]
  },
  {
   "cell_type": "code",
   "execution_count": null,
   "id": "462c6d41",
   "metadata": {},
   "outputs": [],
   "source": [
    "conjunto.add(\"nuevo\")\n",
    "print(conjunto)"
   ]
  },
  {
   "cell_type": "markdown",
   "id": "1659fdb7",
   "metadata": {},
   "source": [
    "El método update permite agregar múltiples valores en un iterable al conjunto"
   ]
  },
  {
   "cell_type": "code",
   "execution_count": null,
   "id": "c97aa36b",
   "metadata": {},
   "outputs": [],
   "source": [
    "conjunto.update([2, 3, 4, 6])\n",
    "print(conjunto)"
   ]
  },
  {
   "cell_type": "markdown",
   "id": "03160d96",
   "metadata": {},
   "source": [
    "¿Qué pasa si intentas agregar (`add`) una lista como tal a un conjunto?\n",
    "\n",
    "`conjunto.add([1, 2])`\n",
    "\n",
    "---\n",
    "\n",
    "¿Qué pasa si agregas (`add`) una tupla, por ejemplo `(1,2)`?\n",
    "\n",
    "`conjunto.add((1, 2))`\n",
    "\n",
    "---\n",
    "\n",
    "¿Y con los diccionarios? ¿Se puede tener una lista como llave? ¿Y una tupla?\n",
    "\n",
    "`diccionario = {[1, 2] : 1}`\n",
    "\n",
    "`diccionario = {(1, 2) : 1}`"
   ]
  },
  {
   "cell_type": "markdown",
   "id": "bcf473e4",
   "metadata": {},
   "source": [
    "### Eliminación"
   ]
  },
  {
   "cell_type": "markdown",
   "id": "8c1ed201",
   "metadata": {},
   "source": [
    "Se puede utilizar el método `remove` para eliminar un valor almacenado en un diccionario"
   ]
  },
  {
   "cell_type": "code",
   "execution_count": null,
   "id": "39e705e8",
   "metadata": {},
   "outputs": [],
   "source": [
    "conjunto.remove(\"nuevo\")\n",
    "print(conjunto)"
   ]
  },
  {
   "cell_type": "markdown",
   "id": "80d583b6",
   "metadata": {},
   "source": [
    "También se puede utilizar el método pop para eliminar un valor del diccionario, pero si un diccionario no sigue el orden que le dimos ¿qué estamos eliminando?"
   ]
  },
  {
   "cell_type": "code",
   "execution_count": null,
   "id": "50e34b97",
   "metadata": {},
   "outputs": [],
   "source": [
    "print(conjunto.pop())"
   ]
  },
  {
   "cell_type": "markdown",
   "id": "8b69f534",
   "metadata": {},
   "source": [
    "Un conjunto suele ser útil para eliminar duplicados, para checar datos previamente recolectados y para hacer recorridos"
   ]
  },
  {
   "cell_type": "markdown",
   "id": "c33977d7",
   "metadata": {},
   "source": [
    "## Mucho más...\n",
    "\n",
    "Esto solo es una pequeña entrada al mundo de las estructuras de datos. Tenemos que empezar en algún lugar y por el momento tenemos una buena cantidad de operaciones para trabajar con estas.\n",
    "\n",
    "Pero hay muchos otros recursos disponibles en Internet, por ejemplo la documentación de Python, que de hecho también está disponible en su computadora usando la función `help()`. Usando esta función muchas cosas vendrán escritas como clases, entonces puede ser complicado empezar con esta utilidad, pero sirve muchísimo cuando tienen dudas y no hay acceso a Internet en donde se encuentren.\n",
    "\n",
    "Después veremos el paradigma orientado a objetos y será más fácil consumir estos recursos, crear estructuras de datos para sus necesidades y hacer código relativamente limpio (aunque luego la programación orientada a objetos requiere de mucho trabajo adicional)"
   ]
  },
  {
   "cell_type": "markdown",
   "id": "c9411658",
   "metadata": {},
   "source": [
    "## Primeros pasos\n",
    "\n",
    "Si es tu primera vez programando puede que sean muchas cosas, pero conforme nos apoyemos de estas formas de almacenar información veremos sus beneficios, limitaciones y en general aplicaciones. Además Python nos hace un gran favor teniendo toda esta funcionalidad ya construida (_built-in_), aunque dependiendo de la situación esto puede no ser deseado, por ejemplo si se tiene una computadora con poca memoria, es mejor tener la libertad de cargar únicamente lo que vamos a utilizar."
   ]
  }
 ],
 "metadata": {
  "kernelspec": {
   "display_name": "Python 3 (ipykernel)",
   "language": "python",
   "name": "python3"
  },
  "language_info": {
   "codemirror_mode": {
    "name": "ipython",
    "version": 3
   },
   "file_extension": ".py",
   "mimetype": "text/x-python",
   "name": "python",
   "nbconvert_exporter": "python",
   "pygments_lexer": "ipython3",
   "version": "3.10.6"
  }
 },
 "nbformat": 4,
 "nbformat_minor": 5
}
